{
 "cells": [
  {
   "cell_type": "code",
   "execution_count": 14,
   "metadata": {},
   "outputs": [
    {
     "data": {
      "text/plain": [
       "[[2, 2], [2, 2]]"
      ]
     },
     "execution_count": 14,
     "metadata": {},
     "output_type": "execute_result"
    }
   ],
   "source": [
    "#Buatlah sebuah fungsi untuk membuat matrix berdasarkan input dari user\n",
    "\n",
    "def create_matrix(baris,kolom):\n",
    "    matrix = []\n",
    "    for i in range(baris):\n",
    "        matrix.append([])\n",
    "\n",
    "        for j in range(kolom):\n",
    "            isian = int(input(f'Masukin isi dari matriks [{i}][{j}]:'))\n",
    "            matrix[i].append(isian)\n",
    "        \n",
    "    return matrix\n",
    "baris = int(input('Masukkan Jumlah Baris:\\t'))\n",
    "kolom = int(input('Masukkan Jumlah Kolom:\\t'))\n",
    "\n",
    "create_matrix(baris,kolom)\n"
   ]
  },
  {
   "cell_type": "code",
   "execution_count": 16,
   "metadata": {},
   "outputs": [
    {
     "name": "stdout",
     "output_type": "stream",
     "text": [
      "Hasil invers = [[0.5, 0.0], [-1.0, 1.0]]\n"
     ]
    }
   ],
   "source": [
    "#Buatlah sebuah fungsi untuk mencari invers matrix berdasarkan input matrix dari user\n",
    "\n",
    "def create_matrix(baris,kolom):\n",
    "    matrix = []\n",
    "    for i in range(baris):\n",
    "        matrix.append([])\n",
    "\n",
    "        for j in range(kolom):\n",
    "            isian = int(input(f'Masukin isi dari matriks [{i}][{j}]:'))\n",
    "            matrix[i].append(isian)\n",
    "        \n",
    "    return matrix\n",
    "baris = int(input('Masukkan Jumlah Baris:\\t'))\n",
    "kolom = int(input('Masukkan Jumlah Kolom:\\t'))\n",
    "\n",
    "matriksA = create_matrix(baris,kolom)\n",
    "\n",
    "\n",
    "def invers(matriks):\n",
    "    \n",
    "    k = len(matriks)\n",
    "    identitas = [[float(i==j) for j in range(k)] for i in range(k)]\n",
    "    \n",
    "    for i in range(k):\n",
    "        if matriks[i][i] == 0:\n",
    "            for j in range(i+1, k):\n",
    "                if matriks[j][i] != 0:\n",
    "                    matriks[i], matriks[j] = matriks[j], matriks[i]\n",
    "                    identitas[i], identitas[j] = identitas[j], identitas[i]\n",
    "                    break\n",
    "                else:\n",
    "                    return None\n",
    "        \n",
    "        faktor = matriks[i][i]\n",
    "        for j in range(i, k):\n",
    "            matriks[i][j] /= faktor\n",
    "        for j in range(k):\n",
    "            identitas[i][j] /= faktor\n",
    "        \n",
    "        for j in range(k):\n",
    "            if i == j:\n",
    "                continue\n",
    "            faktor = matriks[j][i]\n",
    "            for k in range(i, k):\n",
    "                matriks[j][k] -= faktor * matriks[i][k]\n",
    "            for k in range(k):\n",
    "                identitas[j][k] -= faktor * identitas[i][k]\n",
    "    \n",
    "    return identitas\n",
    "\n",
    "print(f'Hasil invers = {invers(matriksA)}')\n",
    "\n"
   ]
  },
  {
   "cell_type": "code",
   "execution_count": 27,
   "metadata": {},
   "outputs": [
    {
     "data": {
      "text/plain": [
       "[[3.0, 1.5], [3.0, 1.5]]"
      ]
     },
     "execution_count": 27,
     "metadata": {},
     "output_type": "execute_result"
    }
   ],
   "source": [
    "#Buatlah Fungsi untuk melakukan pembagian matrix antar matrix berdasarkan input user menggunakan nested loop\n",
    "\n",
    "def create_matrix(baris,kolom):\n",
    "    matrix = []\n",
    "    for i in range(baris):\n",
    "        matrix.append([])\n",
    "\n",
    "        for j in range(kolom):\n",
    "            isian = int(input(f'Masukin isi dari matriks [{i}][{j}]:'))\n",
    "            matrix[i].append(isian)\n",
    "        \n",
    "    return matrix\n",
    "\n",
    "def matrix_division(matrix1, matrix2):\n",
    "    baris1, kolom1 = len(matrix1), len(matrix1[0])\n",
    "    baris2, kolom2 = len(matrix2), len(matrix2[0])\n",
    "\n",
    "    # ngecek matriksa, b bisa dibagi atau tidak\n",
    "    if kolom1 != baris2:\n",
    "        return None\n",
    "\n",
    "    # Inisialisasi matrix3 dengan nilai 0\n",
    "    matrix3 = [[0 for _ in range(kolom2)] for _ in range(baris1)]\n",
    "\n",
    "    # pembagian matrix\n",
    "    for i in range(baris1):\n",
    "        for j in range(kolom2):\n",
    "            sum = 0\n",
    "            for k in range(kolom1):\n",
    "                sum += matrix1[i][k] / matrix2[k][j]\n",
    "            matrix3[i][j] = sum\n",
    "\n",
    "    return matrix3\n",
    "\n",
    "def BuatMatriks():\n",
    "    baris = int(input('Masukkan Jumlah Baris:\\t'))\n",
    "    kolom = int(input('Masukkan Jumlah Kolom:\\t'))\n",
    "    matriks = create_matrix(baris,kolom)\n",
    "    return matriks\n",
    "\n",
    "Matriks1 = BuatMatriks()\n",
    "Matriks2 = BuatMatriks()\n",
    "matrix_division(Matriks1,Matriks2)"
   ]
  }
 ],
 "metadata": {
  "kernelspec": {
   "display_name": "Python 3",
   "language": "python",
   "name": "python3"
  },
  "language_info": {
   "codemirror_mode": {
    "name": "ipython",
    "version": 3
   },
   "file_extension": ".py",
   "mimetype": "text/x-python",
   "name": "python",
   "nbconvert_exporter": "python",
   "pygments_lexer": "ipython3",
   "version": "3.10.7"
  },
  "orig_nbformat": 4
 },
 "nbformat": 4,
 "nbformat_minor": 2
}
